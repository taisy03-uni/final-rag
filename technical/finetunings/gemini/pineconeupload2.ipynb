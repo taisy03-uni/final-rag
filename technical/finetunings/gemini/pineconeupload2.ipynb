{
  "cells": [
    {
      "cell_type": "code",
      "id": "y19Q66MbCHFdYo9dxK5O8rYI",
      "metadata": {
        "tags": [],
        "id": "y19Q66MbCHFdYo9dxK5O8rYI"
      },
      "source": [
        "#Pinecone Upload  - PREPORCEESING DATA SAVER"
      ],
      "execution_count": null,
      "outputs": []
    },
    {
      "cell_type": "code",
      "source": [
        "!pip install pinecone"
      ],
      "metadata": {
        "colab": {
          "base_uri": "https://localhost:8080/",
          "height": 689
        },
        "id": "wCAZVC_CcRWa",
        "executionInfo": {
          "status": "ok",
          "timestamp": 1756112187598,
          "user_tz": -60,
          "elapsed": 15421,
          "user": {
            "displayName": "",
            "userId": ""
          }
        },
        "outputId": "4ea8c314-92a6-4ee3-a3b1-c61ce6ace549"
      },
      "id": "wCAZVC_CcRWa",
      "execution_count": 3,
      "outputs": [
        {
          "output_type": "stream",
          "name": "stdout",
          "text": [
            "Collecting pinecone\n",
            "  Downloading pinecone-7.3.0-py3-none-any.whl.metadata (9.5 kB)\n",
            "Requirement already satisfied: certifi>=2019.11.17 in /usr/local/lib/python3.11/dist-packages (from pinecone) (2025.8.3)\n",
            "Collecting pinecone-plugin-assistant<2.0.0,>=1.6.0 (from pinecone)\n",
            "  Downloading pinecone_plugin_assistant-1.7.0-py3-none-any.whl.metadata (28 kB)\n",
            "Collecting pinecone-plugin-interface<0.0.8,>=0.0.7 (from pinecone)\n",
            "  Downloading pinecone_plugin_interface-0.0.7-py3-none-any.whl.metadata (1.2 kB)\n",
            "Requirement already satisfied: python-dateutil>=2.5.3 in /usr/local/lib/python3.11/dist-packages (from pinecone) (2.9.0.post0)\n",
            "Requirement already satisfied: typing-extensions>=3.7.4 in /usr/local/lib/python3.11/dist-packages (from pinecone) (4.14.1)\n",
            "Requirement already satisfied: urllib3>=1.26.0 in /usr/local/lib/python3.11/dist-packages (from pinecone) (2.5.0)\n",
            "Collecting packaging<25.0,>=24.2 (from pinecone-plugin-assistant<2.0.0,>=1.6.0->pinecone)\n",
            "  Downloading packaging-24.2-py3-none-any.whl.metadata (3.2 kB)\n",
            "Requirement already satisfied: requests<3.0.0,>=2.32.3 in /usr/local/lib/python3.11/dist-packages (from pinecone-plugin-assistant<2.0.0,>=1.6.0->pinecone) (2.32.3)\n",
            "Requirement already satisfied: six>=1.5 in /usr/local/lib/python3.11/dist-packages (from python-dateutil>=2.5.3->pinecone) (1.17.0)\n",
            "Requirement already satisfied: charset-normalizer<4,>=2 in /usr/local/lib/python3.11/dist-packages (from requests<3.0.0,>=2.32.3->pinecone-plugin-assistant<2.0.0,>=1.6.0->pinecone) (3.4.3)\n",
            "Requirement already satisfied: idna<4,>=2.5 in /usr/local/lib/python3.11/dist-packages (from requests<3.0.0,>=2.32.3->pinecone-plugin-assistant<2.0.0,>=1.6.0->pinecone) (3.10)\n",
            "Downloading pinecone-7.3.0-py3-none-any.whl (587 kB)\n",
            "\u001b[2K   \u001b[90m━━━━━━━━━━━━━━━━━━━━━━━━━━━━━━━━━━━━━━━━\u001b[0m \u001b[32m587.6/587.6 kB\u001b[0m \u001b[31m12.5 MB/s\u001b[0m eta \u001b[36m0:00:00\u001b[0m\n",
            "\u001b[?25hDownloading pinecone_plugin_assistant-1.7.0-py3-none-any.whl (239 kB)\n",
            "\u001b[2K   \u001b[90m━━━━━━━━━━━━━━━━━━━━━━━━━━━━━━━━━━━━━━━━\u001b[0m \u001b[32m240.0/240.0 kB\u001b[0m \u001b[31m23.4 MB/s\u001b[0m eta \u001b[36m0:00:00\u001b[0m\n",
            "\u001b[?25hDownloading pinecone_plugin_interface-0.0.7-py3-none-any.whl (6.2 kB)\n",
            "Downloading packaging-24.2-py3-none-any.whl (65 kB)\n",
            "\u001b[2K   \u001b[90m━━━━━━━━━━━━━━━━━━━━━━━━━━━━━━━━━━━━━━━━\u001b[0m \u001b[32m65.5/65.5 kB\u001b[0m \u001b[31m7.5 MB/s\u001b[0m eta \u001b[36m0:00:00\u001b[0m\n",
            "\u001b[?25hInstalling collected packages: pinecone-plugin-interface, packaging, pinecone-plugin-assistant, pinecone\n",
            "  Attempting uninstall: packaging\n",
            "    Found existing installation: packaging 25.0\n",
            "    Uninstalling packaging-25.0:\n",
            "      Successfully uninstalled packaging-25.0\n",
            "\u001b[31mERROR: pip's dependency resolver does not currently take into account all the packages that are installed. This behaviour is the source of the following dependency conflicts.\n",
            "tensorflow 2.19.0 requires protobuf!=4.21.0,!=4.21.1,!=4.21.2,!=4.21.3,!=4.21.4,!=4.21.5,<6.0.0dev,>=3.20.3, but you have protobuf 6.31.1 which is incompatible.\u001b[0m\u001b[31m\n",
            "\u001b[0mSuccessfully installed packaging-24.2 pinecone-7.3.0 pinecone-plugin-assistant-1.7.0 pinecone-plugin-interface-0.0.7\n"
          ]
        },
        {
          "output_type": "display_data",
          "data": {
            "application/vnd.colab-display-data+json": {
              "pip_warning": {
                "packages": [
                  "packaging"
                ]
              },
              "id": "acc9f7edf376428f8a0868b42a36c4ce"
            }
          },
          "metadata": {}
        }
      ]
    },
    {
      "cell_type": "code",
      "source": [
        "from google.cloud import storage\n",
        "import json\n",
        "import pandas as pd\n",
        "from pinecone import Pinecone\n",
        "import time\n",
        "from google import genai\n",
        "from google.genai import types\n",
        "import base64\n",
        "import time\n",
        "from google.api_core import exceptions as g_exceptions"
      ],
      "metadata": {
        "id": "c2nWM7-JZqS3",
        "executionInfo": {
          "status": "ok",
          "timestamp": 1756112189271,
          "user_tz": -60,
          "elapsed": 1688,
          "user": {
            "displayName": "",
            "userId": ""
          }
        }
      },
      "id": "c2nWM7-JZqS3",
      "execution_count": 4,
      "outputs": []
    },
    {
      "cell_type": "code",
      "source": [
        "# Initialize GCS client\n",
        "client = storage.Client()\n",
        "bucket_name = \"finetune-data123\"\n",
        "bucket = client.bucket(bucket_name)"
      ],
      "metadata": {
        "id": "Yo-0bZP9Zq1X",
        "executionInfo": {
          "status": "ok",
          "timestamp": 1756112189682,
          "user_tz": -60,
          "elapsed": 444,
          "user": {
            "displayName": "",
            "userId": ""
          }
        }
      },
      "id": "Yo-0bZP9Zq1X",
      "execution_count": 5,
      "outputs": []
    },
    {
      "cell_type": "code",
      "source": [
        "filepath_court = \"main_pipiline_data/court\"\n",
        "filepath_tribunals = \"main_pipiline_data/tribunals/tribunals\"\n",
        "\n",
        "def get_gcs_file_paths(bucket, court=\"\", year=\"\"):\n",
        "    paths = []\n",
        "\n",
        "    # Iterate over all blobs in the bucket\n",
        "    for blob in bucket.list_blobs():  # optionally use prefix to speed up\n",
        "        if not blob.name.endswith('.xml'):\n",
        "            continue\n",
        "        # Apply filters\n",
        "        if court and court not in blob.name:\n",
        "            continue\n",
        "        if year and year not in blob.name:\n",
        "            continue\n",
        "        paths.append(blob.name)\n",
        "\n",
        "    return paths\n",
        "\n",
        "all_files = get_gcs_file_paths(bucket)"
      ],
      "metadata": {
        "id": "pSeiOEv3aEUm",
        "executionInfo": {
          "status": "ok",
          "timestamp": 1756112667353,
          "user_tz": -60,
          "elapsed": 68137,
          "user": {
            "displayName": "",
            "userId": ""
          }
        }
      },
      "id": "pSeiOEv3aEUm",
      "execution_count": 20,
      "outputs": []
    },
    {
      "cell_type": "code",
      "source": [
        "import re\n",
        "import json\n",
        "from bs4 import BeautifulSoup\n",
        "from google.cloud import storage\n",
        "\n",
        "class FileProcessor:\n",
        "    def __init__(self, bucket_name):\n",
        "        self.client = storage.Client()\n",
        "        self.bucket = self.client.bucket(bucket_name)\n",
        "\n",
        "    def clean_text(self, text: str) -> str:\n",
        "        text = re.sub(r'\\n{2,}', '\\n', text)\n",
        "        text = re.sub(r' +', ' ', text)\n",
        "        text = text.strip()\n",
        "        # remove any line that begins with #judgment\n",
        "        text = re.sub(r'(?m)^#judgment.*\\n?', '', text)\n",
        "        return text\n",
        "\n",
        "    def get_metadata(self, soup, path):\n",
        "      metadata = {\"path\": path}\n",
        "\n",
        "      # FRBRWork metadata\n",
        "      frbrwork = soup.find('frbrwork')\n",
        "      if frbrwork:\n",
        "          frbr_tags = {\n",
        "              'frbruri': 'uri',\n",
        "              'frbrdate': 'judgment_date',\n",
        "              'frbrname': 'name',\n",
        "              'frbrauthor': 'author',\n",
        "              'frbrcountry': 'country',\n",
        "              'frbrnumber': 'number',\n",
        "              'frbrthis': 'this'\n",
        "          }\n",
        "          for tag_name, key in frbr_tags.items():\n",
        "              tag = frbrwork.find(tag_name)\n",
        "              if tag:\n",
        "                  # Some have 'value', some have 'date', some have 'href'\n",
        "                  value = tag.attrs.get('value') or tag.attrs.get('date') or tag.attrs.get('href')\n",
        "                  if value:\n",
        "                      metadata[key] = value\n",
        "\n",
        "      # Capture proprietary UK metadata (namespaced)\n",
        "      uk_tags = ['uk:court', 'uk:year', 'uk:number', 'uk:cite']\n",
        "      for tag_name in uk_tags:\n",
        "          tag = soup.find(tag_name)\n",
        "          if tag:\n",
        "              metadata[tag_name.replace('uk:', '')] = tag.get_text(strip=True)\n",
        "\n",
        "      # Capture judges from references\n",
        "      judges = [p.get('showas') for p in soup.find_all('tlcperson')]\n",
        "      if judges:\n",
        "          metadata['judges'] = judges\n",
        "\n",
        "      return metadata\n",
        "\n",
        "\n",
        "    def process_files(self, filepaths):\n",
        "        \"\"\"\n",
        "        filepaths: list of paths in the bucket\n",
        "        Returns a list of dicts: [{'metadata': ..., 'text': ...}, ...]\n",
        "        \"\"\"\n",
        "        results = []\n",
        "        i = 0\n",
        "        for path in filepaths:\n",
        "            i+=1\n",
        "            print(f\"{i}/{len(filepaths)}\")\n",
        "            blob = self.bucket.blob(path)\n",
        "            # Download as string\n",
        "            xml_content = blob.download_as_text()  # memory-efficient for one file at a time\n",
        "            soup = BeautifulSoup(xml_content, \"lxml\")  # parse XML\n",
        "            metadata = self.get_metadata(soup, path)\n",
        "\n",
        "            # Get main text (adjust selector depending on your XML structure)\n",
        "            text_tag = soup.find('Text') or soup  # fallback to whole document\n",
        "            text = text_tag.get_text() if text_tag else ''\n",
        "            clean = self.clean_text(text)\n",
        "\n",
        "            results.append({\n",
        "                'metadata': metadata,\n",
        "                'text': clean\n",
        "            })\n",
        "\n",
        "        return results\n",
        "\n"
      ],
      "metadata": {
        "id": "Bzq5uOMkaHYP",
        "executionInfo": {
          "status": "ok",
          "timestamp": 1756112667353,
          "user_tz": -60,
          "elapsed": 4,
          "user": {
            "displayName": "",
            "userId": ""
          }
        }
      },
      "id": "Bzq5uOMkaHYP",
      "execution_count": 22,
      "outputs": []
    },
    {
      "cell_type": "code",
      "source": [
        "bucket_name = \"finetune-data123\"\n",
        "filepaths = all_files\n",
        "\n",
        "processor = FileProcessor(bucket_name)\n",
        "processed_files = processor.process_files(filepaths)\n",
        "# save results in a results file ni fietune-dataq\n",
        "\n",
        "import json\n",
        "from google.cloud import storage\n",
        "\n",
        "def save_results_to_gcs(bucket_name, filepath, results):\n",
        "    client = storage.Client()\n",
        "    bucket = client.bucket(bucket_name)\n",
        "\n",
        "    blob = bucket.blob(filepath)\n",
        "\n",
        "    blob.upload_from_string(\n",
        "        data=json.dumps(results, indent=2, ensure_ascii=False),\n",
        "        content_type=\"application/json\"\n",
        "    )\n",
        "    print(f\"✅ Results saved to gs://{bucket_name}/{filepath}\")\n",
        "\n",
        "\n",
        "# After processing all files\n",
        "output_filename = \"main_pipiline_data/preprocessed/processed_results.json\"\n",
        "save_results_to_gcs(bucket_name, output_filename, processed_files)\n"
      ],
      "metadata": {
        "colab": {
          "base_uri": "https://localhost:8080/"
        },
        "id": "v_6LUIfRbRXF",
        "executionInfo": {
          "status": "ok",
          "timestamp": 1756112715140,
          "user_tz": -60,
          "elapsed": 47791,
          "user": {
            "displayName": "",
            "userId": ""
          }
        },
        "outputId": "cd59ef94-fbfc-4ae2-fd37-a98cf8ddcbf6"
      },
      "id": "v_6LUIfRbRXF",
      "execution_count": 23,
      "outputs": [
        {
          "output_type": "stream",
          "name": "stdout",
          "text": [
            "2/100\n",
            "3/100\n",
            "4/100\n",
            "5/100\n",
            "6/100\n",
            "7/100\n",
            "8/100\n",
            "9/100\n",
            "10/100\n",
            "11/100\n",
            "12/100\n",
            "13/100\n",
            "14/100\n",
            "15/100\n",
            "16/100\n",
            "17/100\n",
            "18/100\n",
            "19/100\n",
            "20/100\n",
            "21/100\n",
            "22/100\n",
            "23/100\n",
            "24/100\n",
            "25/100\n",
            "26/100\n",
            "27/100\n",
            "28/100\n",
            "29/100\n",
            "30/100\n",
            "31/100\n",
            "32/100\n",
            "33/100\n",
            "34/100\n",
            "35/100\n",
            "36/100\n",
            "37/100\n",
            "38/100\n",
            "39/100\n",
            "40/100\n",
            "41/100\n",
            "42/100\n",
            "43/100\n",
            "44/100\n",
            "45/100\n",
            "46/100\n",
            "47/100\n",
            "48/100\n",
            "49/100\n",
            "50/100\n",
            "51/100\n",
            "52/100\n",
            "53/100\n",
            "54/100\n",
            "55/100\n",
            "56/100\n",
            "57/100\n",
            "58/100\n",
            "59/100\n",
            "60/100\n",
            "61/100\n",
            "62/100\n",
            "63/100\n",
            "64/100\n",
            "65/100\n",
            "66/100\n",
            "67/100\n",
            "68/100\n",
            "69/100\n",
            "70/100\n",
            "71/100\n",
            "72/100\n",
            "73/100\n",
            "74/100\n",
            "75/100\n",
            "76/100\n",
            "77/100\n",
            "78/100\n",
            "79/100\n",
            "80/100\n",
            "81/100\n",
            "82/100\n",
            "83/100\n",
            "84/100\n",
            "85/100\n",
            "86/100\n",
            "87/100\n",
            "88/100\n",
            "89/100\n",
            "90/100\n",
            "91/100\n",
            "92/100\n",
            "93/100\n",
            "94/100\n",
            "95/100\n",
            "96/100\n",
            "97/100\n",
            "98/100\n",
            "99/100\n",
            "100/100\n",
            "101/100\n",
            "✅ Results saved to gs://finetune-data123/main_pipiline_data/preprocessed/processed_results.json\n"
          ]
        }
      ]
    }
  ],
  "metadata": {
    "kernelspec": {
      "display_name": "Python 3",
      "language": "python",
      "name": "python3"
    },
    "language_info": {
      "codemirror_mode": {
        "name": "ipython",
        "version": 3
      },
      "file_extension": ".py",
      "mimetype": "text/x-python",
      "name": "python",
      "nbconvert_exporter": "python",
      "pygments_lexer": "ipython3",
      "version": "3.10.10"
    },
    "colab": {
      "provenance": [],
      "name": "pineconeupload2"
    }
  },
  "nbformat": 4,
  "nbformat_minor": 5
}