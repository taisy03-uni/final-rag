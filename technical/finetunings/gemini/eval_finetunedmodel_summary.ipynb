{
  "cells": [
    {
      "cell_type": "markdown",
      "source": [
        "#Generating CaseLaw summaries"
      ],
      "metadata": {
        "id": "1XEX7w2df3cF"
      },
      "id": "1XEX7w2df3cF"
    },
    {
      "cell_type": "code",
      "source": [
        "%pip install -U -q google-cloud-aiplatform[evaluation]\n",
        "%pip install -U -q datasets\n",
        "%pip install -U -q evaluate\n",
        "%pip install -U -q vertexai\n",
        "!pip install --upgrade google-genai"
      ],
      "metadata": {
        "id": "KklZwvKSf7hw",
        "colab": {
          "base_uri": "https://localhost:8080/"
        },
        "executionInfo": {
          "status": "ok",
          "timestamp": 1755477907264,
          "user_tz": -60,
          "elapsed": 51392,
          "user": {
            "displayName": "",
            "userId": ""
          }
        },
        "outputId": "429d466f-1adf-411b-8f61-a315cb1fb89e"
      },
      "id": "KklZwvKSf7hw",
      "execution_count": 14,
      "outputs": [
        {
          "output_type": "stream",
          "name": "stdout",
          "text": [
            "\u001b[31mERROR: pip's dependency resolver does not currently take into account all the packages that are installed. This behaviour is the source of the following dependency conflicts.\n",
            "vertexai 1.71.1 requires google-cloud-aiplatform[all]==1.71.1, but you have google-cloud-aiplatform 1.109.0 which is incompatible.\u001b[0m\u001b[31m\n",
            "\u001b[0m\u001b[33mWARNING: google-cloud-aiplatform 1.71.1 does not provide the extra 'all'\u001b[0m\u001b[33m\n",
            "\u001b[0mRequirement already satisfied: google-genai in /usr/local/lib/python3.11/dist-packages (1.30.0)\n",
            "Requirement already satisfied: anyio<5.0.0,>=4.8.0 in /usr/local/lib/python3.11/dist-packages (from google-genai) (4.9.0)\n",
            "Requirement already satisfied: google-auth<3.0.0,>=2.14.1 in /usr/local/lib/python3.11/dist-packages (from google-genai) (2.38.0)\n",
            "Requirement already satisfied: httpx<1.0.0,>=0.28.1 in /usr/local/lib/python3.11/dist-packages (from google-genai) (0.28.1)\n",
            "Requirement already satisfied: pydantic<3.0.0,>=2.0.0 in /usr/local/lib/python3.11/dist-packages (from google-genai) (2.11.7)\n",
            "Requirement already satisfied: requests<3.0.0,>=2.28.1 in /usr/local/lib/python3.11/dist-packages (from google-genai) (2.32.3)\n",
            "Requirement already satisfied: tenacity<9.2.0,>=8.2.3 in /usr/local/lib/python3.11/dist-packages (from google-genai) (8.5.0)\n",
            "Requirement already satisfied: websockets<15.1.0,>=13.0.0 in /usr/local/lib/python3.11/dist-packages (from google-genai) (15.0.1)\n",
            "Requirement already satisfied: typing-extensions<5.0.0,>=4.11.0 in /usr/local/lib/python3.11/dist-packages (from google-genai) (4.14.1)\n",
            "Requirement already satisfied: idna>=2.8 in /usr/local/lib/python3.11/dist-packages (from anyio<5.0.0,>=4.8.0->google-genai) (3.10)\n",
            "Requirement already satisfied: sniffio>=1.1 in /usr/local/lib/python3.11/dist-packages (from anyio<5.0.0,>=4.8.0->google-genai) (1.3.1)\n",
            "Requirement already satisfied: cachetools<6.0,>=2.0.0 in /usr/local/lib/python3.11/dist-packages (from google-auth<3.0.0,>=2.14.1->google-genai) (5.5.2)\n",
            "Requirement already satisfied: pyasn1-modules>=0.2.1 in /usr/local/lib/python3.11/dist-packages (from google-auth<3.0.0,>=2.14.1->google-genai) (0.4.2)\n",
            "Requirement already satisfied: rsa<5,>=3.1.4 in /usr/local/lib/python3.11/dist-packages (from google-auth<3.0.0,>=2.14.1->google-genai) (4.9.1)\n",
            "Requirement already satisfied: certifi in /usr/local/lib/python3.11/dist-packages (from httpx<1.0.0,>=0.28.1->google-genai) (2025.7.14)\n",
            "Requirement already satisfied: httpcore==1.* in /usr/local/lib/python3.11/dist-packages (from httpx<1.0.0,>=0.28.1->google-genai) (1.0.9)\n",
            "Requirement already satisfied: h11>=0.16 in /usr/local/lib/python3.11/dist-packages (from httpcore==1.*->httpx<1.0.0,>=0.28.1->google-genai) (0.16.0)\n",
            "Requirement already satisfied: annotated-types>=0.6.0 in /usr/local/lib/python3.11/dist-packages (from pydantic<3.0.0,>=2.0.0->google-genai) (0.7.0)\n",
            "Requirement already satisfied: pydantic-core==2.33.2 in /usr/local/lib/python3.11/dist-packages (from pydantic<3.0.0,>=2.0.0->google-genai) (2.33.2)\n",
            "Requirement already satisfied: typing-inspection>=0.4.0 in /usr/local/lib/python3.11/dist-packages (from pydantic<3.0.0,>=2.0.0->google-genai) (0.4.1)\n",
            "Requirement already satisfied: charset-normalizer<4,>=2 in /usr/local/lib/python3.11/dist-packages (from requests<3.0.0,>=2.28.1->google-genai) (3.4.2)\n",
            "Requirement already satisfied: urllib3<3,>=1.21.1 in /usr/local/lib/python3.11/dist-packages (from requests<3.0.0,>=2.28.1->google-genai) (2.5.0)\n",
            "Requirement already satisfied: pyasn1<0.7.0,>=0.6.1 in /usr/local/lib/python3.11/dist-packages (from pyasn1-modules>=0.2.1->google-auth<3.0.0,>=2.14.1->google-genai) (0.6.1)\n"
          ]
        }
      ]
    },
    {
      "cell_type": "code",
      "source": [
        "from datasets import load_dataset\n",
        "import pandas as pd\n",
        "from google.cloud import storage\n",
        "import json\n",
        "from tqdm import tqdm\n"
      ],
      "metadata": {
        "id": "6Ci-frtPf9GB",
        "executionInfo": {
          "status": "ok",
          "timestamp": 1755479970140,
          "user_tz": -60,
          "elapsed": 397,
          "user": {
            "displayName": "",
            "userId": ""
          }
        }
      },
      "id": "6Ci-frtPf9GB",
      "execution_count": 35,
      "outputs": []
    },
    {
      "cell_type": "code",
      "source": [
        "from datasets import Dataset\n",
        "from itertools import islice\n",
        "\n",
        "# Initialize GCS client\n",
        "client = storage.Client()\n",
        "bucket_name = \"finetune-data123\"\n",
        "prefix = \"task2025_train\"  # folder in the bucket\n",
        "bucket = client.bucket(bucket_name)\n",
        "\n",
        "# List all .txt blobs in the folder\n",
        "blobs = bucket.list_blobs(prefix=prefix)\n",
        "data = []\n",
        "i = 1\n",
        "\n",
        "for blob in blobs:\n",
        "    print(f\"{i}\")\n",
        "    if blob.name.endswith(\".txt\"):\n",
        "        i +=1\n",
        "        # Download the content as string\n",
        "        text = blob.download_as_text()\n",
        "        # Keep file name and content\n",
        "        file_name = blob.name.split(\"/\")[-1]   # '000002.txt'\n",
        "        number = file_name.split(\".\")[0]       # '000002'\n",
        "        data.append({\"file_name\": number, \"text\": text})\n",
        "\n",
        "# Convert to Dataset or DataFrame\n",
        "df = pd.DataFrame(data)\n",
        "dataset = Dataset.from_pandas(df)\n",
        "\n",
        "print(dataset)\n"
      ],
      "metadata": {
        "colab": {
          "base_uri": "https://localhost:8080/"
        },
        "id": "Nsg4jGQ8l9X8",
        "executionInfo": {
          "status": "ok",
          "timestamp": 1755479973860,
          "user_tz": -60,
          "elapsed": 2194,
          "user": {
            "displayName": "",
            "userId": ""
          }
        },
        "outputId": "157b4043-5c43-4a6a-dd76-4e8c065466fb"
      },
      "id": "Nsg4jGQ8l9X8",
      "execution_count": 36,
      "outputs": [
        {
          "output_type": "stream",
          "name": "stdout",
          "text": [
            "1\n",
            "2\n",
            "Dataset({\n",
            "    features: ['file_name', 'text'],\n",
            "    num_rows: 2\n",
            "})\n"
          ]
        }
      ]
    },
    {
      "cell_type": "code",
      "source": [
        "# Convert DataFrame to JSON string\n",
        "json_str = df.to_json(orient=\"records\", lines=True)\n",
        "\n",
        "# Initialize GCS client\n",
        "client = storage.Client()\n",
        "bucket_name = \"finetune-data123\"\n",
        "bucket = client.bucket(bucket_name)\n",
        "\n",
        "# Create blob in bucket\n",
        "blob = bucket.blob(\"results/task2025_train.json\")\n",
        "\n",
        "# Upload JSON string directly\n",
        "blob.upload_from_string(json_str, content_type=\"application/json\")\n",
        "\n",
        "print(\"Done)\")"
      ],
      "metadata": {
        "colab": {
          "base_uri": "https://localhost:8080/"
        },
        "id": "hUzaXzWPp9kb",
        "executionInfo": {
          "status": "ok",
          "timestamp": 1755479982544,
          "user_tz": -60,
          "elapsed": 1099,
          "user": {
            "displayName": "",
            "userId": ""
          }
        },
        "outputId": "34431a20-8608-455b-dcce-c2dd0529a956"
      },
      "id": "hUzaXzWPp9kb",
      "execution_count": 37,
      "outputs": [
        {
          "output_type": "stream",
          "name": "stdout",
          "text": [
            "Done)\n"
          ]
        }
      ]
    },
    {
      "cell_type": "code",
      "source": [
        "# Compute lengths of all texts\n",
        "lengths = df['text'].apply(len)\n",
        "\n",
        "# Calculate statistics\n",
        "average_length = lengths.mean()\n",
        "min_length = lengths.min()\n",
        "max_length = lengths.max()\n",
        "\n",
        "print(f\"Average length: {average_length}\")\n",
        "print(f\"Minimum length: {min_length}\")\n",
        "print(f\"Maximum length: {max_length}\")\n",
        "\n",
        "print(f\"Lenght:{len(df)}\")\n"
      ],
      "metadata": {
        "colab": {
          "base_uri": "https://localhost:8080/"
        },
        "id": "EyT_jaVMmGFX",
        "executionInfo": {
          "status": "ok",
          "timestamp": 1755480019538,
          "user_tz": -60,
          "elapsed": 4,
          "user": {
            "displayName": "",
            "userId": ""
          }
        },
        "outputId": "16112d8b-4474-4547-bdb8-93ba6fd99910"
      },
      "id": "EyT_jaVMmGFX",
      "execution_count": 39,
      "outputs": [
        {
          "output_type": "stream",
          "name": "stdout",
          "text": [
            "Average length: 41235.5\n",
            "Minimum length: 32929\n",
            "Maximum length: 49542\n",
            "Lenght:2\n"
          ]
        }
      ]
    },
    {
      "cell_type": "code",
      "source": [
        "\n",
        "print(\"Length of dataframe:\", len(df))\n",
        "print(\"Keys (columns):\", df.columns.tolist())\n"
      ],
      "metadata": {
        "id": "M3byatKYnGbB",
        "colab": {
          "base_uri": "https://localhost:8080/"
        },
        "executionInfo": {
          "status": "ok",
          "timestamp": 1755480023088,
          "user_tz": -60,
          "elapsed": 252,
          "user": {
            "displayName": "",
            "userId": ""
          }
        },
        "outputId": "078bd18a-e475-46ff-b1bd-786581f1f37a"
      },
      "id": "M3byatKYnGbB",
      "execution_count": 40,
      "outputs": [
        {
          "output_type": "stream",
          "name": "stdout",
          "text": [
            "Length of dataframe: 2\n",
            "Keys (columns): ['file_name', 'text']\n"
          ]
        }
      ]
    },
    {
      "cell_type": "code",
      "source": [
        "from google import genai\n",
        "from google.genai import types\n",
        "import base64\n",
        "import time\n",
        "from google.api_core import exceptions as g_exceptions\n",
        "\n",
        "def generate_finetuned(text, retries=3, backoff=2):\n",
        "    client = genai.Client(\n",
        "        vertexai=True,\n",
        "        project=\"651136027056\",\n",
        "        location=\"europe-west9\",\n",
        "    )\n",
        "\n",
        "    model = \"projects/651136027056/locations/europe-west9/endpoints/3743955839833079808\"\n",
        "\n",
        "    contents = [\n",
        "        types.Content(\n",
        "            role=\"user\",\n",
        "            parts=[types.Part.from_text(text=text)]\n",
        "        )\n",
        "    ]\n",
        "\n",
        "    generate_content_config = types.GenerateContentConfig(\n",
        "        temperature=0.0,\n",
        "        top_p=0.95,\n",
        "        max_output_tokens=5000,\n",
        "        safety_settings=[\n",
        "            types.SafetySetting(category=\"HARM_CATEGORY_HATE_SPEECH\", threshold=\"OFF\"),\n",
        "            types.SafetySetting(category=\"HARM_CATEGORY_DANGEROUS_CONTENT\", threshold=\"OFF\"),\n",
        "            types.SafetySetting(category=\"HARM_CATEGORY_SEXUALLY_EXPLICIT\", threshold=\"OFF\"),\n",
        "            types.SafetySetting(category=\"HARM_CATEGORY_HARASSMENT\", threshold=\"OFF\"),\n",
        "        ],\n",
        "        thinking_config=types.ThinkingConfig(thinking_budget=0),\n",
        "    )\n",
        "\n",
        "    attempt = 0\n",
        "    while attempt < retries:\n",
        "        try:\n",
        "            output_text = \"\"\n",
        "            for chunk in client.models.generate_content_stream(\n",
        "                model=model,\n",
        "                contents=contents,\n",
        "                config=generate_content_config,\n",
        "            ):\n",
        "                if chunk and getattr(chunk, \"text\", None):\n",
        "                    output_text += chunk.text\n",
        "\n",
        "            if not output_text.strip():\n",
        "                raise ValueError(\"Empty response from model\")\n",
        "\n",
        "            return output_text  # ✅ Success, exit function\n",
        "\n",
        "        except (g_exceptions.GoogleAPICallError, g_exceptions.RetryError,\n",
        "                ValueError, Exception) as e:\n",
        "            attempt += 1\n",
        "            print(f\"[Error] Attempt {attempt}/{retries} failed: {e}\")\n",
        "\n",
        "            if attempt < retries:\n",
        "                sleep_time = backoff ** attempt\n",
        "                print(f\"Retrying in {sleep_time}s...\")\n",
        "                time.sleep(sleep_time)\n",
        "            else:\n",
        "                print(\"[Error] Max retries exceeded.\")\n",
        "                return \"[Model error: no response]\"\n"
      ],
      "metadata": {
        "id": "_-a0-aUYgIun",
        "executionInfo": {
          "status": "ok",
          "timestamp": 1755480026902,
          "user_tz": -60,
          "elapsed": 305,
          "user": {
            "displayName": "",
            "userId": ""
          }
        }
      },
      "id": "_-a0-aUYgIun",
      "execution_count": 41,
      "outputs": []
    },
    {
      "cell_type": "code",
      "source": [
        "from tqdm import tqdm\n",
        "import pandas as pd\n",
        "from google.cloud import storage\n",
        "import json\n",
        "\n",
        "# Initialize GCS client and bucket\n",
        "client = storage.Client()\n",
        "bucket_name = \"finetune-data123\"\n",
        "bucket = client.bucket(bucket_name)\n",
        "results_prefix = \"results\"  # folder in bucket for results\n",
        "\n",
        "def save_to_gcs(bucket, folder, file_name, data):\n",
        "    \"\"\"Save a dictionary as JSON to GCS.\"\"\"\n",
        "    blob = bucket.blob(f\"{folder}/{file_name}\")\n",
        "    blob.upload_from_string(json.dumps(data, ensure_ascii=False), content_type=\"application/json\")\n",
        "\n",
        "def generate_summaries(df, generate_fn):\n",
        "    \"\"\"\n",
        "    df: DataFrame with columns 'file_name' and 'text'\n",
        "    generate_fn: function to generate text from model (e.g., generate_finetuned)\n",
        "    \"\"\"\n",
        "    summaries = []\n",
        "    for idx, row in tqdm(df.iterrows(), total=len(df)):\n",
        "        file_name = row[\"file_name\"]\n",
        "        case_text = \"Summarize the following document: \" + row[\"text\"]\n",
        "        summary = generate_fn(case_text)\n",
        "        if summary == \"[Model error: no response]\":\n",
        "            print(f\"⚠️ Model returned no response for file {file_name}\")\n",
        "\n",
        "        record = {\n",
        "            \"file_name\": file_name,\n",
        "            \"text\": case_text,\n",
        "            \"summary\": summary\n",
        "        }\n",
        "\n",
        "        # Save each summary immediately to GCS\n",
        "        json_file_name = f\"{file_name}.json\"\n",
        "        save_to_gcs(bucket, results_prefix, json_file_name, record)\n",
        "\n",
        "        summaries.append(record)\n",
        "        #else skip\n",
        "\n",
        "\n",
        "    return pd.DataFrame(summaries)"
      ],
      "metadata": {
        "id": "AawajEJjgCAU",
        "executionInfo": {
          "status": "ok",
          "timestamp": 1755480029488,
          "user_tz": -60,
          "elapsed": 303,
          "user": {
            "displayName": "",
            "userId": ""
          }
        }
      },
      "id": "AawajEJjgCAU",
      "execution_count": 42,
      "outputs": []
    },
    {
      "cell_type": "code",
      "source": [
        "# 3️⃣ Generate summaries using finetuned model\n",
        "summaries_df = generate_summaries(df, generate_finetuned)\n"
      ],
      "metadata": {
        "id": "oxwiO_LDgEhl",
        "colab": {
          "base_uri": "https://localhost:8080/",
          "height": 365
        },
        "executionInfo": {
          "status": "error",
          "timestamp": 1755480045977,
          "user_tz": -60,
          "elapsed": 10163,
          "user": {
            "displayName": "",
            "userId": ""
          }
        },
        "outputId": "91358cf4-fb3f-4139-883a-d07338fab630"
      },
      "id": "oxwiO_LDgEhl",
      "execution_count": 43,
      "outputs": [
        {
          "output_type": "stream",
          "name": "stderr",
          "text": [
            "100%|██████████| 2/2 [00:09<00:00,  4.85s/it]\n"
          ]
        },
        {
          "output_type": "error",
          "ename": "OSError",
          "evalue": "Cannot save file into a non-existent directory: 'results'",
          "traceback": [
            "\u001b[0;31m---------------------------------------------------------------------------\u001b[0m",
            "\u001b[0;31mOSError\u001b[0m                                   Traceback (most recent call last)",
            "\u001b[0;32m/tmp/ipython-input-43-119549470.py\u001b[0m in \u001b[0;36m<cell line: 0>\u001b[0;34m()\u001b[0m\n\u001b[1;32m      4\u001b[0m \u001b[0;31m# 4️⃣ Save to new JSONL file\u001b[0m\u001b[0;34m\u001b[0m\u001b[0;34m\u001b[0m\u001b[0m\n\u001b[1;32m      5\u001b[0m \u001b[0moutput_file\u001b[0m \u001b[0;34m=\u001b[0m \u001b[0;34m\"results/cleaned_summaries.jsonl\"\u001b[0m\u001b[0;34m\u001b[0m\u001b[0;34m\u001b[0m\u001b[0m\n\u001b[0;32m----> 6\u001b[0;31m \u001b[0msummaries_df\u001b[0m\u001b[0;34m.\u001b[0m\u001b[0mto_json\u001b[0m\u001b[0;34m(\u001b[0m\u001b[0moutput_file\u001b[0m\u001b[0;34m,\u001b[0m \u001b[0morient\u001b[0m\u001b[0;34m=\u001b[0m\u001b[0;34m\"records\"\u001b[0m\u001b[0;34m,\u001b[0m \u001b[0mlines\u001b[0m\u001b[0;34m=\u001b[0m\u001b[0;32mTrue\u001b[0m\u001b[0;34m,\u001b[0m \u001b[0mforce_ascii\u001b[0m\u001b[0;34m=\u001b[0m\u001b[0;32mFalse\u001b[0m\u001b[0;34m)\u001b[0m\u001b[0;34m\u001b[0m\u001b[0;34m\u001b[0m\u001b[0m\n\u001b[0m\u001b[1;32m      7\u001b[0m \u001b[0mprint\u001b[0m\u001b[0;34m(\u001b[0m\u001b[0;34mf\"Saved summaries for {len(summaries_df)} cases to {output_file}\"\u001b[0m\u001b[0;34m)\u001b[0m\u001b[0;34m\u001b[0m\u001b[0;34m\u001b[0m\u001b[0m\n",
            "\u001b[0;32m/usr/local/lib/python3.11/dist-packages/pandas/util/_decorators.py\u001b[0m in \u001b[0;36mwrapper\u001b[0;34m(*args, **kwargs)\u001b[0m\n\u001b[1;32m    331\u001b[0m                     \u001b[0mstacklevel\u001b[0m\u001b[0;34m=\u001b[0m\u001b[0mfind_stack_level\u001b[0m\u001b[0;34m(\u001b[0m\u001b[0;34m)\u001b[0m\u001b[0;34m,\u001b[0m\u001b[0;34m\u001b[0m\u001b[0;34m\u001b[0m\u001b[0m\n\u001b[1;32m    332\u001b[0m                 )\n\u001b[0;32m--> 333\u001b[0;31m             \u001b[0;32mreturn\u001b[0m \u001b[0mfunc\u001b[0m\u001b[0;34m(\u001b[0m\u001b[0;34m*\u001b[0m\u001b[0margs\u001b[0m\u001b[0;34m,\u001b[0m \u001b[0;34m**\u001b[0m\u001b[0mkwargs\u001b[0m\u001b[0;34m)\u001b[0m\u001b[0;34m\u001b[0m\u001b[0;34m\u001b[0m\u001b[0m\n\u001b[0m\u001b[1;32m    334\u001b[0m \u001b[0;34m\u001b[0m\u001b[0m\n\u001b[1;32m    335\u001b[0m         \u001b[0;31m# error: \"Callable[[VarArg(Any), KwArg(Any)], Any]\" has no\u001b[0m\u001b[0;34m\u001b[0m\u001b[0;34m\u001b[0m\u001b[0m\n",
            "\u001b[0;32m/usr/local/lib/python3.11/dist-packages/pandas/core/generic.py\u001b[0m in \u001b[0;36mto_json\u001b[0;34m(self, path_or_buf, orient, date_format, double_precision, force_ascii, date_unit, default_handler, lines, compression, index, indent, storage_options, mode)\u001b[0m\n\u001b[1;32m   2700\u001b[0m         \u001b[0mindent\u001b[0m \u001b[0;34m=\u001b[0m \u001b[0mindent\u001b[0m \u001b[0;32mor\u001b[0m \u001b[0;36m0\u001b[0m\u001b[0;34m\u001b[0m\u001b[0;34m\u001b[0m\u001b[0m\n\u001b[1;32m   2701\u001b[0m \u001b[0;34m\u001b[0m\u001b[0m\n\u001b[0;32m-> 2702\u001b[0;31m         return json.to_json(\n\u001b[0m\u001b[1;32m   2703\u001b[0m             \u001b[0mpath_or_buf\u001b[0m\u001b[0;34m=\u001b[0m\u001b[0mpath_or_buf\u001b[0m\u001b[0;34m,\u001b[0m\u001b[0;34m\u001b[0m\u001b[0;34m\u001b[0m\u001b[0m\n\u001b[1;32m   2704\u001b[0m             \u001b[0mobj\u001b[0m\u001b[0;34m=\u001b[0m\u001b[0mself\u001b[0m\u001b[0;34m,\u001b[0m\u001b[0;34m\u001b[0m\u001b[0;34m\u001b[0m\u001b[0m\n",
            "\u001b[0;32m/usr/local/lib/python3.11/dist-packages/pandas/io/json/_json.py\u001b[0m in \u001b[0;36mto_json\u001b[0;34m(path_or_buf, obj, orient, date_format, double_precision, force_ascii, date_unit, default_handler, lines, compression, index, indent, storage_options, mode)\u001b[0m\n\u001b[1;32m    215\u001b[0m     \u001b[0;32mif\u001b[0m \u001b[0mpath_or_buf\u001b[0m \u001b[0;32mis\u001b[0m \u001b[0;32mnot\u001b[0m \u001b[0;32mNone\u001b[0m\u001b[0;34m:\u001b[0m\u001b[0;34m\u001b[0m\u001b[0;34m\u001b[0m\u001b[0m\n\u001b[1;32m    216\u001b[0m         \u001b[0;31m# apply compression and byte/text conversion\u001b[0m\u001b[0;34m\u001b[0m\u001b[0;34m\u001b[0m\u001b[0m\n\u001b[0;32m--> 217\u001b[0;31m         with get_handle(\n\u001b[0m\u001b[1;32m    218\u001b[0m             \u001b[0mpath_or_buf\u001b[0m\u001b[0;34m,\u001b[0m \u001b[0mmode\u001b[0m\u001b[0;34m,\u001b[0m \u001b[0mcompression\u001b[0m\u001b[0;34m=\u001b[0m\u001b[0mcompression\u001b[0m\u001b[0;34m,\u001b[0m \u001b[0mstorage_options\u001b[0m\u001b[0;34m=\u001b[0m\u001b[0mstorage_options\u001b[0m\u001b[0;34m\u001b[0m\u001b[0;34m\u001b[0m\u001b[0m\n\u001b[1;32m    219\u001b[0m         ) as handles:\n",
            "\u001b[0;32m/usr/local/lib/python3.11/dist-packages/pandas/io/common.py\u001b[0m in \u001b[0;36mget_handle\u001b[0;34m(path_or_buf, mode, encoding, compression, memory_map, is_text, errors, storage_options)\u001b[0m\n\u001b[1;32m    747\u001b[0m     \u001b[0;31m# Only for write methods\u001b[0m\u001b[0;34m\u001b[0m\u001b[0;34m\u001b[0m\u001b[0m\n\u001b[1;32m    748\u001b[0m     \u001b[0;32mif\u001b[0m \u001b[0;34m\"r\"\u001b[0m \u001b[0;32mnot\u001b[0m \u001b[0;32min\u001b[0m \u001b[0mmode\u001b[0m \u001b[0;32mand\u001b[0m \u001b[0mis_path\u001b[0m\u001b[0;34m:\u001b[0m\u001b[0;34m\u001b[0m\u001b[0;34m\u001b[0m\u001b[0m\n\u001b[0;32m--> 749\u001b[0;31m         \u001b[0mcheck_parent_directory\u001b[0m\u001b[0;34m(\u001b[0m\u001b[0mstr\u001b[0m\u001b[0;34m(\u001b[0m\u001b[0mhandle\u001b[0m\u001b[0;34m)\u001b[0m\u001b[0;34m)\u001b[0m\u001b[0;34m\u001b[0m\u001b[0;34m\u001b[0m\u001b[0m\n\u001b[0m\u001b[1;32m    750\u001b[0m \u001b[0;34m\u001b[0m\u001b[0m\n\u001b[1;32m    751\u001b[0m     \u001b[0;32mif\u001b[0m \u001b[0mcompression\u001b[0m\u001b[0;34m:\u001b[0m\u001b[0;34m\u001b[0m\u001b[0;34m\u001b[0m\u001b[0m\n",
            "\u001b[0;32m/usr/local/lib/python3.11/dist-packages/pandas/io/common.py\u001b[0m in \u001b[0;36mcheck_parent_directory\u001b[0;34m(path)\u001b[0m\n\u001b[1;32m    614\u001b[0m     \u001b[0mparent\u001b[0m \u001b[0;34m=\u001b[0m \u001b[0mPath\u001b[0m\u001b[0;34m(\u001b[0m\u001b[0mpath\u001b[0m\u001b[0;34m)\u001b[0m\u001b[0;34m.\u001b[0m\u001b[0mparent\u001b[0m\u001b[0;34m\u001b[0m\u001b[0;34m\u001b[0m\u001b[0m\n\u001b[1;32m    615\u001b[0m     \u001b[0;32mif\u001b[0m \u001b[0;32mnot\u001b[0m \u001b[0mparent\u001b[0m\u001b[0;34m.\u001b[0m\u001b[0mis_dir\u001b[0m\u001b[0;34m(\u001b[0m\u001b[0;34m)\u001b[0m\u001b[0;34m:\u001b[0m\u001b[0;34m\u001b[0m\u001b[0;34m\u001b[0m\u001b[0m\n\u001b[0;32m--> 616\u001b[0;31m         \u001b[0;32mraise\u001b[0m \u001b[0mOSError\u001b[0m\u001b[0;34m(\u001b[0m\u001b[0;34mrf\"Cannot save file into a non-existent directory: '{parent}'\"\u001b[0m\u001b[0;34m)\u001b[0m\u001b[0;34m\u001b[0m\u001b[0;34m\u001b[0m\u001b[0m\n\u001b[0m\u001b[1;32m    617\u001b[0m \u001b[0;34m\u001b[0m\u001b[0m\n\u001b[1;32m    618\u001b[0m \u001b[0;34m\u001b[0m\u001b[0m\n",
            "\u001b[0;31mOSError\u001b[0m: Cannot save file into a non-existent directory: 'results'"
          ]
        }
      ]
    },
    {
      "cell_type": "code",
      "source": [
        "from google.cloud import storage\n",
        "\n",
        "\n",
        "# Convert DataFrame to JSONL string\n",
        "jsonl_str = summaries_df.to_json(orient=\"records\", lines=True, force_ascii=False)\n",
        "\n",
        "# Initialize GCS client\n",
        "client = storage.Client()\n",
        "bucket_name = \"finetune-data123\"\n",
        "bucket = client.bucket(bucket_name)\n",
        "\n",
        "# Create blob in bucket (path in bucket)\n",
        "blob = bucket.blob(\"results/cleaned_summaries.jsonl\")\n",
        "\n",
        "# Upload JSONL string directly\n",
        "blob.upload_from_string(jsonl_str, content_type=\"application/json\")\n",
        "\n",
        "print(f\"✅ Saved summaries for {len(summaries_df)} cases to results/cleaned_summaries.jsonl in GCS\")\n"
      ],
      "metadata": {
        "colab": {
          "base_uri": "https://localhost:8080/"
        },
        "id": "7FBj4l9pxDRt",
        "executionInfo": {
          "status": "ok",
          "timestamp": 1755480083206,
          "user_tz": -60,
          "elapsed": 808,
          "user": {
            "displayName": "",
            "userId": ""
          }
        },
        "outputId": "5377f669-a691-4ef2-8385-dd2f02c7fdb1"
      },
      "id": "7FBj4l9pxDRt",
      "execution_count": 44,
      "outputs": [
        {
          "output_type": "stream",
          "name": "stdout",
          "text": [
            "✅ Saved summaries for 2 cases to results/cleaned_summaries.jsonl in GCS\n"
          ]
        }
      ]
    }
  ],
  "metadata": {
    "kernelspec": {
      "display_name": "Python 3",
      "language": "python",
      "name": "python3"
    },
    "language_info": {
      "codemirror_mode": {
        "name": "ipython",
        "version": 3
      },
      "file_extension": ".py",
      "mimetype": "text/x-python",
      "name": "python",
      "nbconvert_exporter": "python",
      "pygments_lexer": "ipython3",
      "version": "3.10.10"
    },
    "colab": {
      "provenance": [],
      "name": "t.k.sosina (17 Aug 2025, 11:06:45)"
    }
  },
  "nbformat": 4,
  "nbformat_minor": 5
}